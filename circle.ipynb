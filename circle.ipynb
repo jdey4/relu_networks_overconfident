{
  "cells": [
    {
      "cell_type": "markdown",
      "metadata": {
        "pycharm": {
          "metadata": false
        }
      },
      "source": [
        "## A simple self-contained notebook that performs **ACET training** on the Two Moons dataset using `tf-eager`\n",
        "\n",
        "We can clearly see on this 2D example the problem of overconfident\n",
        "predictions for plain ReLU-networks and the effect of ACET-training. \n"
      ]
    },
    {
      "cell_type": "code",
      "execution_count": 2,
      "metadata": {
        "pycharm": {
          "is_executing": false
        }
      },
      "outputs": [],
      "source": [
        "%load_ext autoreload\n",
        "%autoreload 2\n",
        "%matplotlib inline\n",
        "import tensorflow as tf\n",
        "import matplotlib\n",
        "import matplotlib.pyplot as plt\n",
        "import numpy as np\n",
        "from sklearn import datasets\n",
        "tf.compat.v1.enable_eager_execution()\n",
        "from kdg.utils import generate_gaussian_parity, generate_ood_samples, generate_spirals, generate_ellipse\n",
        "from sklearn.metrics import roc_auc_score"
      ]
    },
    {
      "cell_type": "code",
      "execution_count": 3,
      "metadata": {
        "pycharm": {
          "is_executing": false,
          "metadata": false,
          "name": "#%%\n"
        }
      },
      "outputs": [],
      "source": [
        "class Model(tf.keras.Model):\n",
        "  def __init__(self):\n",
        "    \"\"\" A simple two-hidden layer network. \"\"\"\n",
        "    super(Model, self).__init__()\n",
        "    n_in = 2\n",
        "    # for successful training, the network should be expressive enough\n",
        "    n_hidden = [10, 10, 10, 10]\n",
        "    n_classes = 2\n",
        "    self.w1 = tf.Variable(tf.random.normal([n_in, n_hidden[0]], stddev=tf.sqrt(2/n_in)), name='weight1')\n",
        "    self.b1 = tf.Variable(tf.zeros(n_hidden[0]), name='bias1')\n",
        "    self.w2 = tf.Variable(tf.random.normal([n_hidden[0], n_hidden[1]], stddev=tf.sqrt(2/n_hidden[0])), name='weight2')\n",
        "    self.b2 = tf.Variable(tf.zeros(n_hidden[1]), name='bias2')\n",
        "    self.w3 = tf.Variable(tf.random.normal([n_hidden[1], n_hidden[2]], stddev=tf.sqrt(2/n_hidden[1])), name='weight3')\n",
        "    self.b3 = tf.Variable(tf.zeros(n_hidden[2]), name='bias3')\n",
        "    self.w4 = tf.Variable(tf.random.normal([n_hidden[2], n_hidden[3]], stddev=tf.sqrt(2/n_hidden[2])), name='weight4')\n",
        "    self.b4 = tf.Variable(tf.zeros(n_hidden[3]), name='bias4')\n",
        "\n",
        "    self.w5 = tf.Variable(tf.random.normal([n_hidden[3], n_classes], stddev=tf.sqrt(2/n_hidden[3])), name='weight5')\n",
        "    self.b5 = tf.Variable(tf.zeros(n_classes), name='bias5')\n",
        "    self.vars = [self.w1, self.b1, self.w2, self.b2, self.w3, self.b3, self.w4, self.b4, self.w5, self.b5]\n",
        "      \n",
        "  def call(self, x):\n",
        "    l1 = tf.nn.relu(x @ self.w1 + self.b1)\n",
        "    l2 = tf.nn.relu(l1 @ self.w2 + self.b2)\n",
        "    l3 = tf.nn.relu(l2 @ self.w3 + self.b3)\n",
        "    l4 = tf.nn.relu(l3 @ self.w4 + self.b4)\n",
        "    l5 = l4 @ self.w5 + self.b5\n",
        "    return l5\n",
        "\n",
        "\n",
        "def cross_ent(logits, y):\n",
        "    losses = tf.nn.softmax_cross_entropy_with_logits(logits=logits, labels=y)\n",
        "    return tf.reduce_mean(losses)\n",
        "\n",
        "\n",
        "def max_conf(logits):\n",
        "    y = tf.argmax(logits, 1)\n",
        "    y = tf.one_hot(y, dim)\n",
        "    losses = -tf.nn.softmax_cross_entropy_with_logits(logits=logits, labels=y)\n",
        "    return tf.reduce_mean(losses)\n",
        "\n",
        "def gen_adv(x):\n",
        "    eps = 0.025\n",
        "    n_iters = 4\n",
        "    step_size = 0.02\n",
        "\n",
        "    unif = tf.random.uniform(minval=-eps, maxval=eps, shape=tf.shape(x))\n",
        "    x_adv = x + unif #tf.clip_by_value(x + unif, 0., 1.)\n",
        "    \n",
        "    for i in range(n_iters):\n",
        "        x_adv = tf.Variable(x_adv)\n",
        "        with tf.GradientTape() as tape:\n",
        "            loss = max_conf(model(x_adv))\n",
        "            grad = tape.gradient(loss, x_adv)\n",
        "            g = tf.sign(grad)\n",
        "\n",
        "        # import pdb;pdb.set_trace()\n",
        "        x_adv_start = x_adv + step_size*g\n",
        "        #x_adv = tf.clip_by_value(x_adv, 0., 1.)\n",
        "        delta = x_adv - x_adv_start\n",
        "        delta = tf.clip_by_value(delta, -eps, eps)\n",
        "        x_adv = x_adv_start + delta\n",
        "\n",
        "    return x_adv\n"
      ]
    },
    {
      "cell_type": "code",
      "execution_count": 15,
      "metadata": {
        "pycharm": {
          "is_executing": false,
          "metadata": false,
          "name": "#%%\n"
        }
      },
      "outputs": [
        {
          "name": "stdout",
          "output_type": "stream",
          "text": [
            "Iter 100: loss_main=0.617 loss_acet=-0.493 err=41.48%\n",
            "Iter 200: loss_main=0.529 loss_acet=-0.517 err=7.84%\n",
            "Iter 300: loss_main=0.499 loss_acet=-0.504 err=4.95%\n",
            "Iter 400: loss_main=0.474 loss_acet=-0.486 err=4.70%\n",
            "Iter 500: loss_main=0.453 loss_acet=-0.472 err=4.59%\n",
            "Iter 600: loss_main=0.433 loss_acet=-0.458 err=4.80%\n",
            "Iter 700: loss_main=0.414 loss_acet=-0.443 err=4.92%\n",
            "Iter 800: loss_main=0.393 loss_acet=-0.425 err=5.01%\n",
            "Iter 900: loss_main=0.372 loss_acet=-0.410 err=5.22%\n",
            "Iter 1000: loss_main=0.354 loss_acet=-0.396 err=5.24%\n",
            "Iter 1100: loss_main=0.338 loss_acet=-0.385 err=5.16%\n",
            "Iter 1200: loss_main=0.324 loss_acet=-0.373 err=5.44%\n",
            "Iter 1300: loss_main=0.312 loss_acet=-0.368 err=5.89%\n",
            "Iter 1400: loss_main=0.301 loss_acet=-0.359 err=5.94%\n",
            "Iter 1500: loss_main=0.292 loss_acet=-0.354 err=5.49%\n",
            "Iter 1600: loss_main=0.283 loss_acet=-0.346 err=5.55%\n",
            "Iter 1700: loss_main=0.275 loss_acet=-0.342 err=5.94%\n",
            "Iter 1800: loss_main=0.269 loss_acet=-0.339 err=5.25%\n",
            "Iter 1900: loss_main=0.265 loss_acet=-0.337 err=5.94%\n",
            "Iter 2000: loss_main=0.261 loss_acet=-0.337 err=5.31%\n",
            "Iter 2100: loss_main=0.258 loss_acet=-0.333 err=5.98%\n",
            "Iter 2200: loss_main=0.256 loss_acet=-0.336 err=5.07%\n",
            "Iter 2300: loss_main=0.256 loss_acet=-0.336 err=5.51%\n",
            "Iter 2400: loss_main=0.254 loss_acet=-0.334 err=5.21%\n",
            "Iter 2500: loss_main=0.253 loss_acet=-0.334 err=6.64%\n",
            "Iter 2600: loss_main=0.252 loss_acet=-0.341 err=5.97%\n",
            "Iter 2700: loss_main=0.252 loss_acet=-0.335 err=6.17%\n",
            "Iter 2800: loss_main=0.252 loss_acet=-0.338 err=5.73%\n",
            "Iter 2900: loss_main=0.251 loss_acet=-0.339 err=6.05%\n",
            "Iter 3000: loss_main=0.251 loss_acet=-0.338 err=6.03%\n",
            "Iter 3100: loss_main=0.251 loss_acet=-0.338 err=6.54%\n",
            "Iter 3200: loss_main=0.250 loss_acet=-0.337 err=6.45%\n",
            "Iter 3300: loss_main=0.249 loss_acet=-0.337 err=5.95%\n",
            "Iter 3400: loss_main=0.249 loss_acet=-0.338 err=6.14%\n",
            "Iter 3500: loss_main=0.247 loss_acet=-0.338 err=7.23%\n",
            "Iter 3600: loss_main=0.246 loss_acet=-0.334 err=5.52%\n",
            "Iter 3700: loss_main=0.245 loss_acet=-0.337 err=5.96%\n",
            "Iter 3800: loss_main=0.244 loss_acet=-0.340 err=7.48%\n",
            "Iter 3900: loss_main=0.243 loss_acet=-0.334 err=5.83%\n",
            "Iter 4000: loss_main=0.243 loss_acet=-0.334 err=7.63%\n",
            "Iter 4100: loss_main=0.242 loss_acet=-0.337 err=5.95%\n",
            "Iter 4200: loss_main=0.242 loss_acet=-0.339 err=6.75%\n",
            "Iter 4300: loss_main=0.241 loss_acet=-0.334 err=8.16%\n",
            "Iter 4400: loss_main=0.240 loss_acet=-0.338 err=6.83%\n",
            "Iter 4500: loss_main=0.240 loss_acet=-0.334 err=6.38%\n",
            "Iter 4600: loss_main=0.240 loss_acet=-0.341 err=6.84%\n",
            "Iter 4700: loss_main=0.239 loss_acet=-0.336 err=5.97%\n",
            "Iter 4800: loss_main=0.239 loss_acet=-0.337 err=7.78%\n",
            "Iter 4900: loss_main=0.239 loss_acet=-0.337 err=6.66%\n",
            "Iter 5000: loss_main=0.238 loss_acet=-0.335 err=6.84%\n",
            "Iter 5100: loss_main=0.238 loss_acet=-0.334 err=6.27%\n",
            "Iter 5200: loss_main=0.237 loss_acet=-0.334 err=6.03%\n",
            "Iter 5300: loss_main=0.237 loss_acet=-0.335 err=7.03%\n",
            "Iter 5400: loss_main=0.237 loss_acet=-0.336 err=6.31%\n",
            "Iter 5500: loss_main=0.236 loss_acet=-0.334 err=5.70%\n",
            "Iter 5600: loss_main=0.237 loss_acet=-0.333 err=5.62%\n",
            "Iter 5700: loss_main=0.237 loss_acet=-0.334 err=5.80%\n",
            "Iter 5800: loss_main=0.236 loss_acet=-0.336 err=5.65%\n",
            "Iter 5900: loss_main=0.236 loss_acet=-0.339 err=6.97%\n",
            "Iter 6000: loss_main=0.236 loss_acet=-0.337 err=8.64%\n",
            "Iter 6100: loss_main=0.236 loss_acet=-0.335 err=5.91%\n",
            "Iter 6200: loss_main=0.236 loss_acet=-0.335 err=7.45%\n",
            "Iter 6300: loss_main=0.236 loss_acet=-0.337 err=5.92%\n",
            "Iter 6400: loss_main=0.235 loss_acet=-0.335 err=7.19%\n",
            "Iter 6500: loss_main=0.235 loss_acet=-0.336 err=6.19%\n",
            "Iter 6600: loss_main=0.235 loss_acet=-0.335 err=6.63%\n",
            "Iter 6700: loss_main=0.235 loss_acet=-0.333 err=7.35%\n",
            "Iter 6800: loss_main=0.235 loss_acet=-0.337 err=6.50%\n",
            "Iter 6900: loss_main=0.235 loss_acet=-0.339 err=6.15%\n",
            "Iter 7000: loss_main=0.235 loss_acet=-0.332 err=6.98%\n",
            "Iter 7100: loss_main=0.236 loss_acet=-0.333 err=8.58%\n",
            "Iter 7200: loss_main=0.235 loss_acet=-0.333 err=6.56%\n",
            "Iter 7300: loss_main=0.235 loss_acet=-0.340 err=6.21%\n",
            "Iter 7400: loss_main=0.235 loss_acet=-0.336 err=6.38%\n",
            "Iter 7500: loss_main=0.235 loss_acet=-0.338 err=7.97%\n",
            "Iter 7600: loss_main=0.235 loss_acet=-0.337 err=7.35%\n",
            "Iter 7700: loss_main=0.235 loss_acet=-0.338 err=6.85%\n",
            "Iter 7800: loss_main=0.235 loss_acet=-0.338 err=6.53%\n",
            "Iter 7900: loss_main=0.236 loss_acet=-0.335 err=6.24%\n",
            "Iter 8000: loss_main=0.236 loss_acet=-0.339 err=6.50%\n",
            "Iter 8100: loss_main=0.236 loss_acet=-0.339 err=7.73%\n",
            "Iter 8200: loss_main=0.236 loss_acet=-0.337 err=6.77%\n",
            "Iter 8300: loss_main=0.236 loss_acet=-0.338 err=8.99%\n",
            "Iter 8400: loss_main=0.235 loss_acet=-0.336 err=5.93%\n",
            "Iter 8500: loss_main=0.236 loss_acet=-0.340 err=6.41%\n",
            "Iter 8600: loss_main=0.236 loss_acet=-0.336 err=7.37%\n",
            "Iter 8700: loss_main=0.237 loss_acet=-0.338 err=6.68%\n",
            "Iter 8800: loss_main=0.236 loss_acet=-0.334 err=6.70%\n",
            "Iter 8900: loss_main=0.237 loss_acet=-0.342 err=5.93%\n",
            "Iter 9000: loss_main=0.238 loss_acet=-0.339 err=6.01%\n",
            "Iter 9100: loss_main=0.239 loss_acet=-0.339 err=7.03%\n",
            "Iter 9200: loss_main=0.239 loss_acet=-0.340 err=6.54%\n",
            "Iter 9300: loss_main=0.240 loss_acet=-0.341 err=6.66%\n",
            "Iter 9400: loss_main=0.240 loss_acet=-0.344 err=8.16%\n",
            "Iter 9500: loss_main=0.240 loss_acet=-0.343 err=7.45%\n",
            "Iter 9600: loss_main=0.242 loss_acet=-0.348 err=6.22%\n",
            "Iter 9700: loss_main=0.244 loss_acet=-0.346 err=6.55%\n",
            "Iter 9800: loss_main=0.252 loss_acet=-0.357 err=7.54%\n",
            "Iter 9900: loss_main=0.252 loss_acet=-0.361 err=7.83%\n",
            "Iter 10000: loss_main=0.251 loss_acet=-0.362 err=6.27%\n"
          ]
        }
      ],
      "source": [
        "dim = 2\n",
        "# More noise in the moons makes the task harder\n",
        "X, y = generate_ellipse(10000)\n",
        "# Rescale and shift the dataset to better fit into zero-one box\n",
        "#X = (X + 1.6) / 4\n",
        "#X[:, 0] = X[:, 0] - 0.035\n",
        "#X[:, 1] = (X[:, 1] - 0.17) * 1.75\n",
        "y = tf.one_hot(y, depth=2)\n",
        "\n",
        "model = Model()\n",
        "# the default learning rate of Adam might not be the best for this dataset\n",
        "optimizer = tf.optimizers.Adam(3e-4) \n",
        "\n",
        "# Training loop\n",
        "acet = True\n",
        "if acet:\n",
        "    n_iter = 3000\n",
        "else:\n",
        "    n_iter = 3000\n",
        "\n",
        "for i in range(1, n_iter+1):\n",
        "  X_noise = tf.random.uniform([2*X.shape[0], X.shape[1]],minval=-1,maxval=1)\n",
        "  if acet:\n",
        "    X_noise = gen_adv(X_noise)\n",
        "  with tf.GradientTape() as tape:\n",
        "    logits = model(X)\n",
        "    logits_noise = model(X_noise)\n",
        "    loss_main = cross_ent(logits, y)\n",
        "    loss_acet = acet * max_conf(logits_noise)\n",
        "    loss = loss_main + loss_acet\n",
        "  grads = tape.gradient(loss, model.vars)\n",
        "  optimizer.apply_gradients(zip(grads, model.vars))\n",
        "  if i % 100  == 0:\n",
        "    train_err = np.mean(logits.numpy().argmax(1) != y.numpy().argmax(1))\n",
        "    print(\"Iter {:03d}: loss_main={:.3f} loss_acet={:.3f} err={:.2%}\".format(i, loss_main, loss_acet, train_err))\n",
        "\n"
      ]
    },
    {
      "cell_type": "code",
      "execution_count": 16,
      "metadata": {
        "pycharm": {
          "is_executing": false,
          "metadata": false,
          "name": "#%%\n"
        }
      },
      "outputs": [],
      "source": [
        "def plot(model, plot_min, plot_max, max_prob):\n",
        "    n_grid = 200\n",
        "    x_plot = np.linspace(plot_min, plot_max, n_grid)\n",
        "    y_plot = np.linspace(plot_min, plot_max, n_grid)\n",
        "    \n",
        "    points = []\n",
        "    for xx in x_plot:\n",
        "        for yy in y_plot:\n",
        "            points.append((yy, xx))\n",
        "    points = np.array(points)\n",
        "    \n",
        "    logits = model(points)\n",
        "    probs = tf.nn.softmax(logits).numpy()\n",
        "    if max_prob:\n",
        "        z_plot = probs.max(1)\n",
        "    else:\n",
        "        z_plot = probs[:, 0]\n",
        "    z_plot = z_plot.reshape(len(x_plot), len(y_plot)) * 100\n",
        "    \n",
        "    ax = plt.gca()\n",
        "    \n",
        "    vmax = 100\n",
        "    vmin = 50 if max_prob else 0\n",
        "    plt.contourf(x_plot, y_plot, z_plot, levels=np.linspace(50, 100, 50))\n",
        "    cbar = plt.colorbar(ticks=np.linspace(vmin, vmax, 6))\n",
        "    \n",
        "    cbar.ax.set_title('confidence', fontsize=12, pad=12)\n",
        "    cbar.set_ticklabels(['50%', '60%', '70%', '80%', '90%', '100%'])\n",
        "    \n",
        "    y_np = np.array(y)\n",
        "    X0 = X[y_np.argmax(1)==0]\n",
        "    X1 = X[y_np.argmax(1)==1]\n",
        "    #plt.scatter(X0[:, 0], X0[:, 1], s=20, edgecolors='red', facecolor='None',\n",
        "    #           marker='o', linewidths=0.2)\n",
        "    #plt.scatter(X1[:, 0], X1[:, 1], s=20, edgecolors='green', facecolor='None',\n",
        "    #            marker='s', linewidths=0.2)\n",
        "    plt.xlim([plot_min, plot_max])\n",
        "    plt.ylim([plot_min, plot_max])\n",
        "    \n",
        "    margin = 0.01\n",
        "    rect = matplotlib.patches.Rectangle((-margin, -margin), 1.0+2*margin, 1.0+2*margin, \n",
        "                                        linewidth=1.5, color='white', fill=False)\n",
        "    ax.add_patch(rect)\n",
        "    \n",
        "    plt.gca().set_aspect('equal', adjustable='box')\n",
        "    #plt.savefig('plots/toy2d_acet={}_{:.1f}_{:.1f}_max_prob={}.pdf'.format(\n",
        "    #    acet, plot_min, plot_max, max_prob), transparent=True)\n",
        "    plt.show()\n"
      ]
    },
    {
      "cell_type": "markdown",
      "metadata": {
        "pycharm": {
          "metadata": false,
          "name": "#%% md\n"
        }
      },
      "source": [
        "We can see that ACET is effective in the zero-one box, but if we zoom out\n",
        "we are still able to find overconfident predictions as predicted by Theorem 1."
      ]
    },
    {
      "cell_type": "code",
      "execution_count": 17,
      "metadata": {
        "pycharm": {
          "is_executing": false,
          "metadata": false,
          "name": "#%%\n"
        }
      },
      "outputs": [
        {
          "data": {
            "image/png": "[encoded data removed]",
            "text/plain": [
              "<Figure size 432x288 with 2 Axes>"
            ]
          },
          "metadata": {
            "needs_background": "light"
          },
          "output_type": "display_data"
        },
        {
          "data": {
            "image/png": "[encoded data removed]",
            "text/plain": [
              "<Figure size 432x288 with 2 Axes>"
            ]
          },
          "metadata": {
            "needs_background": "light"
          },
          "output_type": "display_data"
        },
        {
          "data": {
            "image/png": "[encoded data removed]",
            "text/plain": [
              "<Figure size 432x288 with 2 Axes>"
            ]
          },
          "metadata": {
            "needs_background": "light"
          },
          "output_type": "display_data"
        },
        {
          "data": {
            "image/png": "[encoded data removed]",
            "text/plain": [
              "<Figure size 432x288 with 2 Axes>"
            ]
          },
          "metadata": {
            "needs_background": "light"
          },
          "output_type": "display_data"
        }
      ],
      "source": [
        "plot(model, -1.0, 1.0, max_prob=False)\n",
        "plot(model, -2.0, 3.0, max_prob=False)\n",
        "plot(model, -5.0, 6.0, max_prob=False)\n",
        "plot(model, -10.0, 10.0, max_prob=False)\n"
      ]
    },
    {
      "cell_type": "markdown",
      "metadata": {},
      "source": [
        "### OOD detection metrics"
      ]
    },
    {
      "cell_type": "code",
      "execution_count": 4,
      "metadata": {
        "pycharm": {
          "metadata": false,
          "name": "#%%\n"
        }
      },
      "outputs": [],
      "source": [
        "\n",
        "def fpr_at_95_tpr(conf_t, conf_f):\n",
        "    TPR = 95\n",
        "    PERC = np.percentile(conf_t, 100-TPR)\n",
        "    FP = np.sum(conf_f >=  PERC)\n",
        "    FPR = np.sum(conf_f >=  PERC)/len(conf_f)\n",
        "    return FPR, PERC"
      ]
    },
    {
      "cell_type": "code",
      "execution_count": 5,
      "metadata": {},
      "outputs": [
        {
          "name": "stdout",
          "output_type": "stream",
          "text": [
            "Doing reps  1\n",
            "Doing reps  2\n",
            "Doing reps  3\n",
            "Doing reps  4\n",
            "Doing reps  5\n",
            "Doing reps  6\n",
            "Doing reps  7\n",
            "Doing reps  8\n",
            "Doing reps  9\n",
            "Doing reps  10\n",
            "Doing reps  11\n",
            "Doing reps  12\n",
            "Doing reps  13\n",
            "Doing reps  14\n",
            "Doing reps  15\n",
            "Doing reps  16\n",
            "Doing reps  17\n",
            "Doing reps  18\n",
            "Doing reps  19\n",
            "Doing reps  20\n",
            "Doing reps  21\n",
            "Doing reps  22\n",
            "Doing reps  23\n",
            "Doing reps  24\n",
            "Doing reps  25\n",
            "Doing reps  26\n",
            "Doing reps  27\n",
            "Doing reps  28\n",
            "Doing reps  29\n",
            "Doing reps  30\n",
            "Doing reps  31\n",
            "Doing reps  32\n",
            "Doing reps  33\n",
            "Doing reps  34\n",
            "Doing reps  35\n",
            "Doing reps  36\n",
            "Doing reps  37\n",
            "Doing reps  38\n",
            "Doing reps  39\n",
            "Doing reps  40\n",
            "Doing reps  41\n",
            "Doing reps  42\n",
            "Doing reps  43\n",
            "Doing reps  44\n",
            "Doing reps  45\n"
          ]
        }
      ],
      "source": [
        "dim = 2\n",
        "sample = 10000\n",
        "reps = 45\n",
        "n_test = 1000\n",
        "true_labels = np.hstack((np.ones(n_test, ), np.zeros(n_test, )))\n",
        "\n",
        "roc = []\n",
        "\n",
        "fpr = []\n",
        "reps_list = []\n",
        "\n",
        "for ii in range(reps):\n",
        "    print('Doing reps ',ii+1)\n",
        "    X, y = generate_ellipse(sample)\n",
        "    X_test, y_test = generate_ellipse(n_test)\n",
        "    X_ood = generate_ood_samples(n_test)\n",
        "\n",
        "    y = tf.one_hot(y, depth=2)\n",
        "\n",
        "    model = Model()\n",
        "    # the default learning rate of Adam might not be the best for this dataset\n",
        "    optimizer = tf.optimizers.Adam(3e-4) \n",
        "\n",
        "    # Training loop\n",
        "    acet = True\n",
        "    if acet:\n",
        "        n_iter = 3000\n",
        "    else:\n",
        "        n_iter = 3000\n",
        "\n",
        "    for i in range(1, n_iter+1):\n",
        "        X_noise = tf.random.uniform([2*X.shape[0], X.shape[1]],minval=-1,maxval=1)\n",
        "        if acet:\n",
        "            X_noise = gen_adv(X_noise)\n",
        "        with tf.GradientTape() as tape:\n",
        "            logits = model(X)\n",
        "            logits_noise = model(X_noise)\n",
        "            loss_main = cross_ent(logits, y)\n",
        "            loss_acet = acet * max_conf(logits_noise)\n",
        "            loss = loss_main + loss_acet\n",
        "        grads = tape.gradient(loss, model.vars)\n",
        "        optimizer.apply_gradients(zip(grads, model.vars))\n",
        "        '''if i % 100  == 0:\n",
        "            train_err = np.mean(logits.numpy().argmax(1) != y.numpy().argmax(1))\n",
        "            print(\"Iter {:03d}: loss_main={:.3f} loss_acet={:.3f} err={:.2%}\".format(i, loss_main, loss_acet, train_err))'''\n",
        "    \n",
        "    logits = model(X_test)\n",
        "    probs = tf.nn.softmax(logits).numpy()\n",
        "    in_conf = np.max(probs, axis=1)\n",
        "\n",
        "    logits = model(X_ood)\n",
        "    probs = tf.nn.softmax(logits).numpy()\n",
        "    out_conf = np.max(probs, axis=1)\n",
        "    \n",
        "    conf = np.hstack((in_conf, out_conf))\n",
        "    roc.append(\n",
        "        roc_auc_score(true_labels, conf)\n",
        "    )\n",
        "    fpr.append(\n",
        "        fpr_at_95_tpr(in_conf, out_conf)\n",
        "    )\n",
        "\n",
        "    reps_list.append(ii)"
      ]
    },
    {
      "cell_type": "code",
      "execution_count": 6,
      "metadata": {},
      "outputs": [
        {
          "name": "stdout",
          "output_type": "stream",
          "text": [
            "AUROC = 0.113 +/- 0.069\n"
          ]
        }
      ],
      "source": [
        "# obtain the AUROC and FPR@95 scores\n",
        "\n",
        "# AUROC\n",
        "print(\"AUROC = {:.3f} +/- {:.3f}\".format(np.mean(roc), np.std(roc)))"
      ]
    },
    {
      "cell_type": "code",
      "execution_count": 7,
      "metadata": {},
      "outputs": [
        {
          "name": "stdout",
          "output_type": "stream",
          "text": [
            "FPR@95 = 0.747 +/- 0.247\n"
          ]
        }
      ],
      "source": [
        "# FPR@95\n",
        "print(\"FPR@95 = {:.3f} +/- {:.3f}\".format(np.mean(fpr), np.std(fpr)))"
      ]
    },
    {
      "cell_type": "code",
      "execution_count": null,
      "metadata": {},
      "outputs": [],
      "source": []
    }
  ],
  "metadata": {
    "kernelspec": {
      "display_name": "Python 3",
      "language": "python",
      "name": "python3"
    },
    "language_info": {
      "codemirror_mode": {
        "name": "ipython",
        "version": 3
      },
      "file_extension": ".py",
      "mimetype": "text/x-python",
      "name": "python",
      "nbconvert_exporter": "python",
      "pygments_lexer": "ipython3",
      "version": "3.8.3"
    },
    "stem_cell": {
      "cell_type": "raw",
      "metadata": {
        "pycharm": {
          "metadata": false
        }
      },
      "source": ""
    }
  },
  "nbformat": 4,
  "nbformat_minor": 2
}
